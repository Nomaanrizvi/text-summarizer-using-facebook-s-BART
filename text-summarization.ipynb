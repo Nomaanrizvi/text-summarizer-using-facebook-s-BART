{
 "cells": [
  {
   "cell_type": "code",
   "execution_count": 67,
   "metadata": {},
   "outputs": [],
   "source": [
    "#importing dependecies\n",
    "import pandas as pd\n",
    "import torch\n",
    "from transformers import BartForConditionalGeneration, BartTokenizer, BartConfig, Trainer, TrainingArguments"
   ]
  },
  {
   "cell_type": "code",
   "execution_count": 68,
   "metadata": {},
   "outputs": [],
   "source": [
    "#creatin dataset\n",
    "dataset1=pd.read_parquet(r\"C:\\Users\\noman\\internship projects\\text summarizer\\dataset_cnn\\cnn_dailymail-train-00000-of-00003.parquet\", engine='fastparquet')\n",
    "dataset2=pd.read_parquet(r\"C:\\Users\\noman\\internship projects\\text summarizer\\dataset_cnn\\cnn_dailymail-train-00001-of-00003.parquet\", engine='fastparquet')\n",
    "dataset3=pd.read_parquet(r\"C:\\Users\\noman\\internship projects\\text summarizer\\dataset_cnn\\cnn_dailymail-train-00002-of-00003.parquet\", engine='fastparquet')"
   ]
  },
  {
   "cell_type": "code",
   "execution_count": 69,
   "metadata": {},
   "outputs": [
    {
     "data": {
      "text/html": [
       "<div>\n",
       "<style scoped>\n",
       "    .dataframe tbody tr th:only-of-type {\n",
       "        vertical-align: middle;\n",
       "    }\n",
       "\n",
       "    .dataframe tbody tr th {\n",
       "        vertical-align: top;\n",
       "    }\n",
       "\n",
       "    .dataframe thead th {\n",
       "        text-align: right;\n",
       "    }\n",
       "</style>\n",
       "<table border=\"1\" class=\"dataframe\">\n",
       "  <thead>\n",
       "    <tr style=\"text-align: right;\">\n",
       "      <th></th>\n",
       "      <th>article</th>\n",
       "      <th>highlights</th>\n",
       "      <th>id</th>\n",
       "    </tr>\n",
       "  </thead>\n",
       "  <tbody>\n",
       "    <tr>\n",
       "      <th>0</th>\n",
       "      <td>LONDON, England (Reuters) -- Harry Potter star...</td>\n",
       "      <td>Harry Potter star Daniel Radcliffe gets £20M f...</td>\n",
       "      <td>42c027e4ff9730fbb3de84c1af0d2c506e41c3e4a03a18...</td>\n",
       "    </tr>\n",
       "    <tr>\n",
       "      <th>1</th>\n",
       "      <td>Editor's note: In our Behind the Scenes series...</td>\n",
       "      <td>Mentally ill inmates in Miami are housed on th...</td>\n",
       "      <td>ee8871b15c50d0db17b0179a6d2beab35065f1e9906a80...</td>\n",
       "    </tr>\n",
       "    <tr>\n",
       "      <th>2</th>\n",
       "      <td>MINNEAPOLIS, Minnesota (CNN) -- Drivers who we...</td>\n",
       "      <td>NEW: \"I thought I was going to die,\" driver sa...</td>\n",
       "      <td>06352019a19ae31e527f37f7571c6dd7f0c5da3712b801...</td>\n",
       "    </tr>\n",
       "    <tr>\n",
       "      <th>3</th>\n",
       "      <td>WASHINGTON (CNN) -- Doctors removed five small...</td>\n",
       "      <td>Five small polyps found during procedure; \"non...</td>\n",
       "      <td>24521a2abb2e1f5e34e6824e0f9e56904a2b0e88904093...</td>\n",
       "    </tr>\n",
       "    <tr>\n",
       "      <th>4</th>\n",
       "      <td>(CNN)  -- The National Football League has ind...</td>\n",
       "      <td>NEW: NFL chief, Atlanta Falcons owner critical...</td>\n",
       "      <td>7fe70cc8b12fab2d0a258fababf7d9c6b5e1262a94fd1a...</td>\n",
       "    </tr>\n",
       "    <tr>\n",
       "      <th>...</th>\n",
       "      <td>...</td>\n",
       "      <td>...</td>\n",
       "      <td>...</td>\n",
       "    </tr>\n",
       "    <tr>\n",
       "      <th>115995</th>\n",
       "      <td>NaN</td>\n",
       "      <td>NaN</td>\n",
       "      <td>NaN</td>\n",
       "    </tr>\n",
       "    <tr>\n",
       "      <th>115996</th>\n",
       "      <td>NaN</td>\n",
       "      <td>NaN</td>\n",
       "      <td>NaN</td>\n",
       "    </tr>\n",
       "    <tr>\n",
       "      <th>115997</th>\n",
       "      <td>NaN</td>\n",
       "      <td>NaN</td>\n",
       "      <td>NaN</td>\n",
       "    </tr>\n",
       "    <tr>\n",
       "      <th>115998</th>\n",
       "      <td>NaN</td>\n",
       "      <td>NaN</td>\n",
       "      <td>NaN</td>\n",
       "    </tr>\n",
       "    <tr>\n",
       "      <th>115999</th>\n",
       "      <td>NaN</td>\n",
       "      <td>NaN</td>\n",
       "      <td>NaN</td>\n",
       "    </tr>\n",
       "  </tbody>\n",
       "</table>\n",
       "<p>116000 rows × 3 columns</p>\n",
       "</div>"
      ],
      "text/plain": [
       "                                                  article   \n",
       "0       LONDON, England (Reuters) -- Harry Potter star...  \\\n",
       "1       Editor's note: In our Behind the Scenes series...   \n",
       "2       MINNEAPOLIS, Minnesota (CNN) -- Drivers who we...   \n",
       "3       WASHINGTON (CNN) -- Doctors removed five small...   \n",
       "4       (CNN)  -- The National Football League has ind...   \n",
       "...                                                   ...   \n",
       "115995                                                NaN   \n",
       "115996                                                NaN   \n",
       "115997                                                NaN   \n",
       "115998                                                NaN   \n",
       "115999                                                NaN   \n",
       "\n",
       "                                               highlights   \n",
       "0       Harry Potter star Daniel Radcliffe gets £20M f...  \\\n",
       "1       Mentally ill inmates in Miami are housed on th...   \n",
       "2       NEW: \"I thought I was going to die,\" driver sa...   \n",
       "3       Five small polyps found during procedure; \"non...   \n",
       "4       NEW: NFL chief, Atlanta Falcons owner critical...   \n",
       "...                                                   ...   \n",
       "115995                                                NaN   \n",
       "115996                                                NaN   \n",
       "115997                                                NaN   \n",
       "115998                                                NaN   \n",
       "115999                                                NaN   \n",
       "\n",
       "                                                       id  \n",
       "0       42c027e4ff9730fbb3de84c1af0d2c506e41c3e4a03a18...  \n",
       "1       ee8871b15c50d0db17b0179a6d2beab35065f1e9906a80...  \n",
       "2       06352019a19ae31e527f37f7571c6dd7f0c5da3712b801...  \n",
       "3       24521a2abb2e1f5e34e6824e0f9e56904a2b0e88904093...  \n",
       "4       7fe70cc8b12fab2d0a258fababf7d9c6b5e1262a94fd1a...  \n",
       "...                                                   ...  \n",
       "115995                                                NaN  \n",
       "115996                                                NaN  \n",
       "115997                                                NaN  \n",
       "115998                                                NaN  \n",
       "115999                                                NaN  \n",
       "\n",
       "[116000 rows x 3 columns]"
      ]
     },
     "execution_count": 69,
     "metadata": {},
     "output_type": "execute_result"
    }
   ],
   "source": [
    "#merging dataset\n",
    "dataset=dataset1+dataset2+dataset3\n",
    "dataset"
   ]
  },
  {
   "cell_type": "code",
   "execution_count": 70,
   "metadata": {
    "tags": []
   },
   "outputs": [
    {
     "name": "stdout",
     "output_type": "stream",
     "text": [
      "(CNN) -- Costa Rica elected its first female president, as the ruling National Liberation Party claimed a historic victory. \"I want to thank the pioneering women who years ago opened the doors of politics in Costa Rica,\" Laura Chinchilla said Sunday to flag-waving supporters in the capital, San Jose. \"My government will be open to all Costa Ricans of good faith.\" Second-place candidate Otton Solis of the Citizen's Action Party had conceded defeat earlier in the evening, as the PLN -- the Spanish acronym for the National Liberation Party party -- forged its way to a nearly 2-to-1 lead. Polls showed Chinchilla garnering 46.8 percent of the vote, with 84 percent of election sites reporting. Solis had 25.1 percent, while Otto Guevara of the Libertarian Movement had 20.9 percent. Election day was festive throughout the nation, with video footage showing supporters of the main presidential candidates dressed in their respective campaign colors. International observers interviewed on CNN affiliate Teletica compared the election scene to a festival. The festivities included election sites where children could vote in a mock presidential vote. The educational outreach let the children pick their candidate on a digital ballot not unlike the ones the rest of the electorate cast their votes with. Some 2.8 million Costa Ricans are eligible to vote. In addition to voting for president, Costa Ricans cast ballots for two vice presidents, 57 Congress members and 495 council members. The legacy of outgoing President Oscar Arias -- a Nobel laureate who leaves office a popular, if polarizing, leader -- has in many ways shaped the presidential race. Although he has given Costa Rica a larger role in foreign affairs through his involvement in seeking resolution to the political crisis in Honduras, but his style has rubbed some the wrong way. After casting his vote Sunday, Arias called the electoral process transparent and trustworthy. \"I would like to thank the Costa Rican people for filling the streets with color,\" he said. CNN's Roberto Pazos contributed to this report.By . Daily Mail Reporters and Associated Press . PUBLISHED: . 08:39 EST, 16 July 2013 . | . UPDATED: . 09:01 EST, 16 July 2013 . Warren Hill was scheduled to die via lethal injection on Monday but was granted a third stay of execution . A judge dramatically stayed a Georgia . inmate's scheduled execution for a third time on Monday, after . attorneys raised questions involving the state's supply of execution . drugs. Lawyers for Warren Lee Hill, 52, have long argued that he is 'mentally disabled' and therefore shouldn't be executed. The lethal injection was halted just three hours before it was due to be carried out. The state maintains that . the defense failed to meet its burden of proving beyond a reasonable . doubt that Hill is mentally disabled. The death-row prisoner was sentenced . to death in 1990 for the lethal beating of fellow inmate Joseph . Handspike with a board studded with nails to the distress of other . inmates. At the time of . the murder, Hill was already serving a life sentence for the 1986 . murder of his girlfriend, Myra Wright, who he shot 11 times. According to Hill's lawyers the judge has now planned a hearing for Thursday. As reported by the Guardian, the attorneys for the inmate argued that Georgia's new Lethal Injection Secrecy Law violates his rights. The legislation has come into being after controversy and uncertainty about how the state imports the drugs used for lethal injections. The pharmaceuticals are currently the subject of a growing international boycott. Hill's lawyer Brian Kammer said he was relieved by the latest decision. 'At this time, there is far too much we do not know about how the state intends to proceed in this, the most extreme act a government can take against a citizen,' Kammer said. Rally: Lawyers and supporters of Warren Hill have argued that Hill is mentally disabled and therefore shouldn't be executed. This protest on Monday in Atlanta called for alternatives to the death penalty in Georgia . This wasn't the first time Hill's scheduled execution has been halted by a . challenge to Georgia's execution method. Last July, a previous execution . date was put on hold by an earlier challenge to the state's plan to . change from a three-drug injection to a single dose of pentobarbital. The . state Supreme Court later authorized the execution to proceed and Hill came within 30 minutes of the execution in February. It was then halted again so courts could consider claims Hill is mentally . disabled. That stay was lifted in April and the execution rescheduled . for Monday. On February 19 Hill was set to be executed at 7 p.m. Tuesday night, but shortly before the 11th U.S. Circuit Court of Appeals granted the stay on claims by Hill that he was mentally disabled and thus ineligible for execution, Kammer said. The 11th U.S. Circuit Court of Appeals issued the ruling for Warren Lee Hill as corrections officials prepared his lethal injection for later in the evening. Reprieve: Demonstrators celebrate the stay of execution for Warren Hill, condemned for a 1990 killing of a fellow inmate . Earlier in the day, the state parole board, the Supreme Court of Georgia and the U.S. Supreme Court had all declined to stop the execution. 'We are greatly relieved that the Eleventh Circuit Court of Appeals has stayed the execution of Warren Hill, a person with mental retardation. 'All the doctors who have examined Mr. Hill are unanimous in their diagnosis of mental retardation,' defense attorney Brian Kammer said in an email. 'I think we were within about a half hour of the execution.' Hill has received support from various activists and from former President Jimmy Carter and his wife Rosalynn. 'Georgia should not violate its own prohibition against executing individuals with serious diminished capacity,' President Carter said in a statement. Clemency: Members of the Georgia Board of Pardons and Paroles prepare to hear a clemency hearing for Hill last July - which they turned down . A fierce legal battle raged over the death penalty sentence of Hill in February. Despite originally testifying for the state, three doctors who claimed that Hill was not mentally disabled dramtically changed their minds. Hill’s lawyers have continually argued that their client has had mental issues for the duration of his incarceration, and are doing everything in their power to spare his life. Authorities said that Hill, who was already serving a life sentence for the murder of his girlfriend, Maya Wright four years earlier, attacked Handspike again and again with a nail embedded in a piece of plank. Handspike died of his injuries. However, the Handspike family has publicly declared that they do not agree with Hill’s execution. Hill’s lethal injection would have gone directly against the 2002 case, Atkins v. Virginia, which ruled that Daryl Atkins was ‘mentally retarded’ and was not of sound mind, and therefore could not be sentenced to death. Dr Thomas Sachy wrote in a February affidavit: ‘Having reviewed my earlier evaluation results and the far more extensive materials from the record of this case, I believe that my judgement that Mr Hill did not meet the criteria for mild mental retardation was in error.’ Watchful: A corrections officer stands guard with a shotgun on the main road into the Georgia Diagnostic Prison in Jackson, Georgia last July after a 30-day stay of execution was announced for condemned murderer Hill . The other doctors concede and claimed their evaluations of Hill in 2000 were ‘rush jobs,’ according to the Atlanta Journal-Constitution. The state said that Hill’s lawyers failed to prove ‘beyond a reasonable doubt’ that the man is mentally disabled. Outrage: Troy Davis was the last Georgia inmate to be executed in the state; his 2011 death was highly controversial . Lauren Kane, a spokesperson for the state Attorney General’s Office, declined comment, at the time. Hill was originally scheduled to be executed in June, but the Supreme Court allowed him a stay of execution while his attorneys pursued a challenge based on the state’s changing of execution method. Hill is among three Georgia inmates on Death Row fighting for a court order that would prevent the state from using a drug to execute them without a doctor’s prescription first. Hill, along with Andrew Allen Cook and Marcus Wellons, argue that the Georgia Department of Corrections’ use of the drug without a doctor’s prescription violates the federal Controlled Substances Act. Even if the court finds him mentally disabled, Hill would still spend the rest of his life in prison, the Journal-Constitution says. The case has stirred a national outcry of those believing Hill to be mentally unwell. If he is executed, it will be the first carried-out execution in the state since the 2011 death of Troy Davis. At the time, Davis’ conviction and condemnation drew fury, as many believed that Davis was the victim of mistaken identity in the murder of Burger King guard Mark MacPhail in 1989. Prosecutors and MacPhail's family said they were certain Davis was guilty and that justice was served. Prison officials also provided an audio recording and transcript of his last words, which he used to again proclaim his innocence and urge his supporters to \"continue to fight this fight.\" Davis was notified of the execution date on Sept. 7, and a day later he was asked to make a last meal request. He scrawled a response in big letters: \"None. Will Be Fasting!\" According to figures collected by Amnesty International, the U.S. was the only country within the G8 to carry out executions in 2011.Nicky Thornley nearly lost his arm from a spider bite inflicted when he was walking his dog in Northumberland . A personal trainer nearly lost his arm and may have even been killed by a mystery spider bite inflicted when he was walking his dog. Nicky Thornley from Jesmond, Newcastle, had to undergo three operations and spent five days in hospital after being bitten in Ponteland, Northumberland. The 33-year-old was warned by doctors if he'd waited any longer to seek treatment, he may have lost his limb or even died. After numerous operations to suck the creature's venom out of his finger, experts are still at a loss at what may have caused the gruesome injury. Mr Thornley saw no cause for concern when his finger started to itch while out walking his dog a fortnight ago. He said: 'To begin with I thought I had been bitten by a fly and put some cream on it. 'I had an itch and I was scratching it but it kept getting worse until it swelled up to the size of a balloon. 'I was in agony.' Three days later, the personal trainer awoke in the middle of the night in excruciating pain, his left hand throbbing. 'I just knew in myself something was very wrong. I thought, I am going to have to go to casualty. I was in a lot of pain,' he added. Upon arrival at the Royal Victoria Infirmary in Newcastle, doctors decided to operate on the man's finger. Scroll down for video . 'The doctor asked me if I had been abroad, but I hadn’t. The only places I had been were Ponteland, Jesmond and Gosforth. 'It is a mystery. 'I was told if I had left it any longer to seek treatment the situation could have been much worse. I might even have lost a limb. The 33-year-old personal trainer thought nothing of his itchy finger before it swelled up and began throbbing . Mr Thornley urged others who are bitten to seek help as soon as possible to avoid long term damage. Pictured right, a false widow spider which were recorded in higher numbers in the UK this year . 'When I went to A&E I thought that I would just be given some different antibiotics. I couldn't believe it when I was told I would need an operation to get the venom out. Mr Thornley was left with a scar and several stitches but will make a full recovery . 'It was only after the third one that they were happy it had all gone. The poison was still in there after two operations.' Mr Thornley was left with stitches and an S-shaped scar on his finger but is expected to recover fully. He warned others suffering similar symptoms to have their injuries looked at as soon as possible to avoid long-term damage. 'It is important that these bites are treated quickly otherwise they can become extremely nasty. 'If I’d have ignored it, it would have been a different story. 'The infection was preventing circulation and I could have died or lost a limb.' Doctors took a sample of the venom in Mr Thornley's finger but have been unable to identify the species responsible for the bite. Earlier this year a 44-year-old woman had her finger amputated after being bitten by an unknown spider in County Durham. Another woman had to have venom drained from her foot after being bitten by a false widow at her home in Strood, Kent.\n"
     ]
    }
   ],
   "source": [
    "#extracting a particular data point\n",
    "print(dataset.iloc[10000]['article'])"
   ]
  },
  {
   "cell_type": "code",
   "execution_count": 71,
   "metadata": {},
   "outputs": [
    {
     "name": "stdout",
     "output_type": "stream",
     "text": [
      "<class 'pandas.core.frame.DataFrame'>\n",
      "Index: 116000 entries, 0 to 115999\n",
      "Data columns (total 3 columns):\n",
      " #   Column      Non-Null Count  Dtype \n",
      "---  ------      --------------  ----- \n",
      " 0   article     55113 non-null  object\n",
      " 1   highlights  55113 non-null  object\n",
      " 2   id          55113 non-null  object\n",
      "dtypes: object(3)\n",
      "memory usage: 3.5+ MB\n"
     ]
    }
   ],
   "source": [
    "dataset.info()"
   ]
  },
  {
   "cell_type": "code",
   "execution_count": 72,
   "metadata": {},
   "outputs": [
    {
     "data": {
      "text/plain": [
       "article       0\n",
       "highlights    0\n",
       "id            0\n",
       "dtype: int64"
      ]
     },
     "execution_count": 72,
     "metadata": {},
     "output_type": "execute_result"
    }
   ],
   "source": [
    "#Dropping duplicate and null,na,nan values\n",
    "dataset.drop_duplicates(inplace=True)\n",
    "dataset.dropna(inplace=True)\n",
    "\n",
    "dataset.isna().sum()"
   ]
  },
  {
   "cell_type": "code",
   "execution_count": 73,
   "metadata": {},
   "outputs": [],
   "source": [
    "#dataset for validation\n",
    "validation_data=pd.read_parquet(r\"C:\\Users\\noman\\internship projects\\text summarizer\\dataset_cnn\\cnn_dailymail-validation.parquet\", engine='fastparquet')\n",
    "val1=list(validation_data[\"article\"])\n",
    "val2=list(validation_data[\"highlights\"])"
   ]
  },
  {
   "cell_type": "code",
   "execution_count": 74,
   "metadata": {},
   "outputs": [],
   "source": [
    "data1=list(dataset[\"article\"][0:1000])\n",
    "data2=list(dataset[\"highlights\"][0:1000])"
   ]
  },
  {
   "cell_type": "code",
   "execution_count": 75,
   "metadata": {},
   "outputs": [],
   "source": [
    "device = torch.device(\"cuda\" if torch.cuda.is_available() else \"cpu\")"
   ]
  },
  {
   "cell_type": "code",
   "execution_count": 78,
   "metadata": {},
   "outputs": [],
   "source": [
    "#tokenizing our training data\n",
    "tokenizer=BartTokenizer.from_pretrained(\"facebook/bart-base\", num_threads=8)\n",
    "tokens_train=tokenizer.encode_plus(data1, data2, truncation=True, padding=True, max_length=26739)"
   ]
  },
  {
   "cell_type": "code",
   "execution_count": 79,
   "metadata": {},
   "outputs": [
    {
     "name": "stderr",
     "output_type": "stream",
     "text": [
      "Be aware, overflowing tokens are not returned for the setting you have chosen, i.e. sequence pairs with the 'longest_first' truncation strategy. So the returned list will always be empty even if some tokens have been removed.\n"
     ]
    }
   ],
   "source": [
    "#tokenizing our validation data\n",
    "tokens_val=tokenizer.encode_plus(val1, val2, truncation=True, padding=True, max_length=26739, return_tensors='pt')"
   ]
  },
  {
   "cell_type": "code",
   "execution_count": 80,
   "metadata": {},
   "outputs": [],
   "source": [
    "#initializing the model\n",
    "model = BartForConditionalGeneration.from_pretrained('facebook/bart-base')\n",
    "model=model.to(device)"
   ]
  },
  {
   "cell_type": "code",
   "execution_count": 81,
   "metadata": {},
   "outputs": [],
   "source": [
    "# Define the training arguments\n",
    "training_args = TrainingArguments(\n",
    "    output_dir=r\"C:\\Users\\noman\\internship projects\\text summarizer\\output\",\n",
    "    num_train_epochs=3,\n",
    "    per_device_train_batch_size=2,\n",
    "    per_device_eval_batch_size=2,\n",
    "    warmup_steps=500,\n",
    "    evaluation_strategy=\"epoch\",\n",
    "    logging_steps=100,\n",
    "    save_strategy=\"epoch\",\n",
    "    optim=\"adamw_torch\"\n",
    ")"
   ]
  },
  {
   "cell_type": "code",
   "execution_count": 82,
   "metadata": {},
   "outputs": [],
   "source": [
    "# Define the trainer\n",
    "trainer = Trainer(\n",
    "    model=model,\n",
    "    args=training_args,\n",
    "    train_dataset=tokens_train,\n",
    "    eval_dataset=tokens_val,\n",
    ")"
   ]
  },
  {
   "cell_type": "code",
   "execution_count": 83,
   "metadata": {},
   "outputs": [
    {
     "data": {
      "application/vnd.jupyter.widget-view+json": {
       "model_id": "260c2b1ea67b42c2848b9bc619e4f4b1",
       "version_major": 2,
       "version_minor": 0
      },
      "text/plain": [
       "  0%|          | 0/3 [00:00<?, ?it/s]"
      ]
     },
     "metadata": {},
     "output_type": "display_data"
    },
    {
     "ename": "KeyError",
     "evalue": "'Invalid key. Only three types of key are available: (1) string, (2) integers for backend Encoding, and (3) slices for data subsetting.'",
     "output_type": "error",
     "traceback": [
      "\u001b[1;31m---------------------------------------------------------------------------\u001b[0m",
      "\u001b[1;31mKeyError\u001b[0m                                  Traceback (most recent call last)",
      "Cell \u001b[1;32mIn[83], line 2\u001b[0m\n\u001b[0;32m      1\u001b[0m \u001b[39m# Train the model\u001b[39;00m\n\u001b[1;32m----> 2\u001b[0m trainer\u001b[39m.\u001b[39;49mtrain()\n",
      "File \u001b[1;32mc:\\Users\\noman\\AppData\\Local\\Programs\\Python\\Python311\\Lib\\site-packages\\transformers\\trainer.py:1645\u001b[0m, in \u001b[0;36mTrainer.train\u001b[1;34m(self, resume_from_checkpoint, trial, ignore_keys_for_eval, **kwargs)\u001b[0m\n\u001b[0;32m   1640\u001b[0m     \u001b[39mself\u001b[39m\u001b[39m.\u001b[39mmodel_wrapped \u001b[39m=\u001b[39m \u001b[39mself\u001b[39m\u001b[39m.\u001b[39mmodel\n\u001b[0;32m   1642\u001b[0m inner_training_loop \u001b[39m=\u001b[39m find_executable_batch_size(\n\u001b[0;32m   1643\u001b[0m     \u001b[39mself\u001b[39m\u001b[39m.\u001b[39m_inner_training_loop, \u001b[39mself\u001b[39m\u001b[39m.\u001b[39m_train_batch_size, args\u001b[39m.\u001b[39mauto_find_batch_size\n\u001b[0;32m   1644\u001b[0m )\n\u001b[1;32m-> 1645\u001b[0m \u001b[39mreturn\u001b[39;00m inner_training_loop(\n\u001b[0;32m   1646\u001b[0m     args\u001b[39m=\u001b[39;49margs,\n\u001b[0;32m   1647\u001b[0m     resume_from_checkpoint\u001b[39m=\u001b[39;49mresume_from_checkpoint,\n\u001b[0;32m   1648\u001b[0m     trial\u001b[39m=\u001b[39;49mtrial,\n\u001b[0;32m   1649\u001b[0m     ignore_keys_for_eval\u001b[39m=\u001b[39;49mignore_keys_for_eval,\n\u001b[0;32m   1650\u001b[0m )\n",
      "File \u001b[1;32mc:\\Users\\noman\\AppData\\Local\\Programs\\Python\\Python311\\Lib\\site-packages\\transformers\\trainer.py:1916\u001b[0m, in \u001b[0;36mTrainer._inner_training_loop\u001b[1;34m(self, batch_size, args, resume_from_checkpoint, trial, ignore_keys_for_eval)\u001b[0m\n\u001b[0;32m   1913\u001b[0m     rng_to_sync \u001b[39m=\u001b[39m \u001b[39mTrue\u001b[39;00m\n\u001b[0;32m   1915\u001b[0m step \u001b[39m=\u001b[39m \u001b[39m-\u001b[39m\u001b[39m1\u001b[39m\n\u001b[1;32m-> 1916\u001b[0m \u001b[39mfor\u001b[39;00m step, inputs \u001b[39min\u001b[39;00m \u001b[39menumerate\u001b[39m(epoch_iterator):\n\u001b[0;32m   1917\u001b[0m     total_batched_samples \u001b[39m+\u001b[39m\u001b[39m=\u001b[39m \u001b[39m1\u001b[39m\n\u001b[0;32m   1918\u001b[0m     \u001b[39mif\u001b[39;00m rng_to_sync:\n",
      "File \u001b[1;32mc:\\Users\\noman\\AppData\\Local\\Programs\\Python\\Python311\\Lib\\site-packages\\torch\\utils\\data\\dataloader.py:633\u001b[0m, in \u001b[0;36m_BaseDataLoaderIter.__next__\u001b[1;34m(self)\u001b[0m\n\u001b[0;32m    630\u001b[0m \u001b[39mif\u001b[39;00m \u001b[39mself\u001b[39m\u001b[39m.\u001b[39m_sampler_iter \u001b[39mis\u001b[39;00m \u001b[39mNone\u001b[39;00m:\n\u001b[0;32m    631\u001b[0m     \u001b[39m# TODO(https://github.com/pytorch/pytorch/issues/76750)\u001b[39;00m\n\u001b[0;32m    632\u001b[0m     \u001b[39mself\u001b[39m\u001b[39m.\u001b[39m_reset()  \u001b[39m# type: ignore[call-arg]\u001b[39;00m\n\u001b[1;32m--> 633\u001b[0m data \u001b[39m=\u001b[39m \u001b[39mself\u001b[39;49m\u001b[39m.\u001b[39;49m_next_data()\n\u001b[0;32m    634\u001b[0m \u001b[39mself\u001b[39m\u001b[39m.\u001b[39m_num_yielded \u001b[39m+\u001b[39m\u001b[39m=\u001b[39m \u001b[39m1\u001b[39m\n\u001b[0;32m    635\u001b[0m \u001b[39mif\u001b[39;00m \u001b[39mself\u001b[39m\u001b[39m.\u001b[39m_dataset_kind \u001b[39m==\u001b[39m _DatasetKind\u001b[39m.\u001b[39mIterable \u001b[39mand\u001b[39;00m \\\n\u001b[0;32m    636\u001b[0m         \u001b[39mself\u001b[39m\u001b[39m.\u001b[39m_IterableDataset_len_called \u001b[39mis\u001b[39;00m \u001b[39mnot\u001b[39;00m \u001b[39mNone\u001b[39;00m \u001b[39mand\u001b[39;00m \\\n\u001b[0;32m    637\u001b[0m         \u001b[39mself\u001b[39m\u001b[39m.\u001b[39m_num_yielded \u001b[39m>\u001b[39m \u001b[39mself\u001b[39m\u001b[39m.\u001b[39m_IterableDataset_len_called:\n",
      "File \u001b[1;32mc:\\Users\\noman\\AppData\\Local\\Programs\\Python\\Python311\\Lib\\site-packages\\torch\\utils\\data\\dataloader.py:677\u001b[0m, in \u001b[0;36m_SingleProcessDataLoaderIter._next_data\u001b[1;34m(self)\u001b[0m\n\u001b[0;32m    675\u001b[0m \u001b[39mdef\u001b[39;00m \u001b[39m_next_data\u001b[39m(\u001b[39mself\u001b[39m):\n\u001b[0;32m    676\u001b[0m     index \u001b[39m=\u001b[39m \u001b[39mself\u001b[39m\u001b[39m.\u001b[39m_next_index()  \u001b[39m# may raise StopIteration\u001b[39;00m\n\u001b[1;32m--> 677\u001b[0m     data \u001b[39m=\u001b[39m \u001b[39mself\u001b[39;49m\u001b[39m.\u001b[39;49m_dataset_fetcher\u001b[39m.\u001b[39;49mfetch(index)  \u001b[39m# may raise StopIteration\u001b[39;00m\n\u001b[0;32m    678\u001b[0m     \u001b[39mif\u001b[39;00m \u001b[39mself\u001b[39m\u001b[39m.\u001b[39m_pin_memory:\n\u001b[0;32m    679\u001b[0m         data \u001b[39m=\u001b[39m _utils\u001b[39m.\u001b[39mpin_memory\u001b[39m.\u001b[39mpin_memory(data, \u001b[39mself\u001b[39m\u001b[39m.\u001b[39m_pin_memory_device)\n",
      "File \u001b[1;32mc:\\Users\\noman\\AppData\\Local\\Programs\\Python\\Python311\\Lib\\site-packages\\torch\\utils\\data\\_utils\\fetch.py:51\u001b[0m, in \u001b[0;36m_MapDatasetFetcher.fetch\u001b[1;34m(self, possibly_batched_index)\u001b[0m\n\u001b[0;32m     49\u001b[0m         data \u001b[39m=\u001b[39m \u001b[39mself\u001b[39m\u001b[39m.\u001b[39mdataset\u001b[39m.\u001b[39m__getitems__(possibly_batched_index)\n\u001b[0;32m     50\u001b[0m     \u001b[39melse\u001b[39;00m:\n\u001b[1;32m---> 51\u001b[0m         data \u001b[39m=\u001b[39m [\u001b[39mself\u001b[39;49m\u001b[39m.\u001b[39;49mdataset[idx] \u001b[39mfor\u001b[39;49;00m idx \u001b[39min\u001b[39;49;00m possibly_batched_index]\n\u001b[0;32m     52\u001b[0m \u001b[39melse\u001b[39;00m:\n\u001b[0;32m     53\u001b[0m     data \u001b[39m=\u001b[39m \u001b[39mself\u001b[39m\u001b[39m.\u001b[39mdataset[possibly_batched_index]\n",
      "File \u001b[1;32mc:\\Users\\noman\\AppData\\Local\\Programs\\Python\\Python311\\Lib\\site-packages\\torch\\utils\\data\\_utils\\fetch.py:51\u001b[0m, in \u001b[0;36m<listcomp>\u001b[1;34m(.0)\u001b[0m\n\u001b[0;32m     49\u001b[0m         data \u001b[39m=\u001b[39m \u001b[39mself\u001b[39m\u001b[39m.\u001b[39mdataset\u001b[39m.\u001b[39m__getitems__(possibly_batched_index)\n\u001b[0;32m     50\u001b[0m     \u001b[39melse\u001b[39;00m:\n\u001b[1;32m---> 51\u001b[0m         data \u001b[39m=\u001b[39m [\u001b[39mself\u001b[39;49m\u001b[39m.\u001b[39;49mdataset[idx] \u001b[39mfor\u001b[39;00m idx \u001b[39min\u001b[39;00m possibly_batched_index]\n\u001b[0;32m     52\u001b[0m \u001b[39melse\u001b[39;00m:\n\u001b[0;32m     53\u001b[0m     data \u001b[39m=\u001b[39m \u001b[39mself\u001b[39m\u001b[39m.\u001b[39mdataset[possibly_batched_index]\n",
      "File \u001b[1;32mc:\\Users\\noman\\AppData\\Local\\Programs\\Python\\Python311\\Lib\\site-packages\\transformers\\tokenization_utils_base.py:247\u001b[0m, in \u001b[0;36mBatchEncoding.__getitem__\u001b[1;34m(self, item)\u001b[0m\n\u001b[0;32m    245\u001b[0m     \u001b[39mreturn\u001b[39;00m {key: \u001b[39mself\u001b[39m\u001b[39m.\u001b[39mdata[key][\u001b[39mslice\u001b[39m] \u001b[39mfor\u001b[39;00m key \u001b[39min\u001b[39;00m \u001b[39mself\u001b[39m\u001b[39m.\u001b[39mdata\u001b[39m.\u001b[39mkeys()}\n\u001b[0;32m    246\u001b[0m \u001b[39melse\u001b[39;00m:\n\u001b[1;32m--> 247\u001b[0m     \u001b[39mraise\u001b[39;00m \u001b[39mKeyError\u001b[39;00m(\n\u001b[0;32m    248\u001b[0m         \u001b[39m\"\u001b[39m\u001b[39mInvalid key. Only three types of key are available: \u001b[39m\u001b[39m\"\u001b[39m\n\u001b[0;32m    249\u001b[0m         \u001b[39m\"\u001b[39m\u001b[39m(1) string, (2) integers for backend Encoding, and (3) slices for data subsetting.\u001b[39m\u001b[39m\"\u001b[39m\n\u001b[0;32m    250\u001b[0m     )\n",
      "\u001b[1;31mKeyError\u001b[0m: 'Invalid key. Only three types of key are available: (1) string, (2) integers for backend Encoding, and (3) slices for data subsetting.'"
     ]
    }
   ],
   "source": [
    "# Train the model\n",
    "trainer.train()"
   ]
  }
 ],
 "metadata": {
  "kernelspec": {
   "display_name": "Python 3",
   "language": "python",
   "name": "python3"
  },
  "language_info": {
   "codemirror_mode": {
    "name": "ipython",
    "version": 3
   },
   "file_extension": ".py",
   "mimetype": "text/x-python",
   "name": "python",
   "nbconvert_exporter": "python",
   "pygments_lexer": "ipython3",
   "version": "3.11.3"
  },
  "orig_nbformat": 4
 },
 "nbformat": 4,
 "nbformat_minor": 2
}
